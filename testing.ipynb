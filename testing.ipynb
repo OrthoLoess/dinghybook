{
 "cells": [
  {
   "cell_type": "code",
   "execution_count": 1,
   "metadata": {},
   "outputs": [],
   "source": [
    "import locale\n",
    "import os\n",
    "\n",
    "import tomllib\n",
    "\n",
    "from dinghybook import app\n",
    "from dinghybook.__about__ import __version__\n",
    "from dinghybook.database import db\n",
    "from dinghybook.models import Boat, Handicap, Issue, Type, User  # noqa: F401\n",
    "\n",
    "with open(os.path.join(app.instance_path, 'sample.toml'), 'rb') as f:\n",
    "    data = tomllib.load(f)\n",
    "\n",
    "with app.app_context():\n",
    "    db.create_all()"
   ]
  },
  {
   "cell_type": "code",
   "execution_count": 21,
   "metadata": {},
   "outputs": [
    {
     "data": {
      "text/plain": [
       "1118"
      ]
     },
     "execution_count": 21,
     "metadata": {},
     "output_type": "execute_result"
    }
   ],
   "source": [
    "with app.app_context():\n",
    "    boat: Boat = db.get_or_404(Boat, 2)\n",
    "    h = boat.type.handicaps\n",
    "\n",
    "h[1].value"
   ]
  },
  {
   "cell_type": "code",
   "execution_count": 9,
   "metadata": {},
   "outputs": [],
   "source": [
    "user1 = data['users'][1]"
   ]
  },
  {
   "cell_type": "code",
   "execution_count": 10,
   "metadata": {},
   "outputs": [],
   "source": [
    "user = User()\n",
    "\n",
    "for prop in user1:\n",
    "  setattr(user, prop, user1[prop])"
   ]
  },
  {
   "cell_type": "code",
   "execution_count": 11,
   "metadata": {},
   "outputs": [
    {
     "name": "stdout",
     "output_type": "stream",
     "text": [
      "<User 'Sideshow Mel'>\n"
     ]
    }
   ],
   "source": [
    "print(user)"
   ]
  }
 ],
 "metadata": {
  "kernelspec": {
   "display_name": "dinghybook",
   "language": "python",
   "name": "python3"
  },
  "language_info": {
   "codemirror_mode": {
    "name": "ipython",
    "version": 3
   },
   "file_extension": ".py",
   "mimetype": "text/x-python",
   "name": "python",
   "nbconvert_exporter": "python",
   "pygments_lexer": "ipython3",
   "version": "3.12.3"
  }
 },
 "nbformat": 4,
 "nbformat_minor": 2
}
